{
 "cells": [
  {
   "cell_type": "code",
   "execution_count": 3,
   "id": "469e7948-5207-496e-9234-7105d446fa2e",
   "metadata": {},
   "outputs": [],
   "source": [
    "import numpy as np"
   ]
  },
  {
   "cell_type": "code",
   "execution_count": 5,
   "id": "17815de1-f779-4d70-831f-eeb46c833b88",
   "metadata": {},
   "outputs": [],
   "source": [
    "import pandas as pd"
   ]
  },
  {
   "cell_type": "code",
   "execution_count": 7,
   "id": "f52b8a70-a845-443a-92b3-ddac9dcf87a7",
   "metadata": {},
   "outputs": [],
   "source": [
    "import seaborn as sns"
   ]
  },
  {
   "cell_type": "code",
   "execution_count": 37,
   "id": "a6dc120d-8b3e-48ce-b546-d6f9795e6443",
   "metadata": {},
   "outputs": [],
   "source": [
    "import matplotlib.pyplot as plt"
   ]
  },
  {
   "cell_type": "code",
   "execution_count": 39,
   "id": "ba756d19-47fe-4e83-94d2-a0693e55f9c0",
   "metadata": {},
   "outputs": [],
   "source": [
    "from bs4 import BeautifulSoup"
   ]
  },
  {
   "cell_type": "code",
   "execution_count": 41,
   "id": "37530d0b-93a1-4d4c-801c-28b633f08b84",
   "metadata": {},
   "outputs": [],
   "source": [
    "import requests"
   ]
  },
  {
   "cell_type": "code",
   "execution_count": 51,
   "id": "67e6a5e4-25f2-4a8b-a49c-7835758a0a1a",
   "metadata": {},
   "outputs": [],
   "source": [
    "res= requests.get(\"https://www.cars45.com/listing\")"
   ]
  },
  {
   "cell_type": "code",
   "execution_count": 52,
   "id": "c6dbf17e-6379-4da7-9903-c4c421beb160",
   "metadata": {},
   "outputs": [
    {
     "name": "stdout",
     "output_type": "stream",
     "text": [
      "Requirement already satisfied: faker in c:\\users\\idowu\\anaconda3\\lib\\site-packages (28.0.0)Note: you may need to restart the kernel to use updated packages.\n",
      "\n",
      "Requirement already satisfied: python-dateutil>=2.4 in c:\\users\\idowu\\anaconda3\\lib\\site-packages (from faker) (2.9.0.post0)\n",
      "Requirement already satisfied: six>=1.5 in c:\\users\\idowu\\anaconda3\\lib\\site-packages (from python-dateutil>=2.4->faker) (1.16.0)\n"
     ]
    }
   ],
   "source": [
    "pip install faker"
   ]
  },
  {
   "cell_type": "code",
   "execution_count": 53,
   "id": "d77b8f01-2f30-4994-bee6-c2d769f7da12",
   "metadata": {},
   "outputs": [],
   "source": [
    "soup = BeautifulSoup(res.content,\"html.parser\")"
   ]
  },
  {
   "cell_type": "code",
   "execution_count": 55,
   "id": "115b8d65-d887-4a85-b3f2-83b98d670af4",
   "metadata": {},
   "outputs": [
    {
     "data": {
      "text/plain": [
       "'₦ 3,487,500'"
      ]
     },
     "execution_count": 55,
     "metadata": {},
     "output_type": "execute_result"
    }
   ],
   "source": [
    "soup.find('p').get_text().strip()"
   ]
  },
  {
   "cell_type": "code",
   "execution_count": 59,
   "id": "584f2594-28b8-4499-aea3-7e1aac6924eb",
   "metadata": {},
   "outputs": [
    {
     "data": {
      "text/plain": [
       "'Sell my car Cars45MakeFord• 109 adsHonda• 215 adsLexus• 221 adsMercedes-Benz• 171 adsToyota• 856 adsAcura• 38 adsAudi• 13 adsBMW• 30 adsCadillac• 1 adsChangan• 1 adsChery• 1 adsChevrolet• 10 adsChrysler• 9 adsDacia• 1 adsDaihatsu• 1 adsDodge• 7 adsDongfeng• 1 adsFord• 109 adsGAC• 2 adsGeely• 1 adsGMC• 4 adsHonda• 215 adsHyundai• 86 adsInfiniti• 14 adsIVM• 1 adsJAC• 1 adsJeep• 6 adsJMC• 1 adsKia• 37 adsLand Rover• 51 adsLexus• 221 adsLincoln• 3 adsMazda• 29 adsMercedes-Benz• 171 adsMini• 2 adsMitsubishi• 20 adsNissan• 97 adsOpel• 7 adsPeugeot• 35 adsPontiac• 11 adsPorsche• 4 adsRenault• 2 adsSaturn• 1 adsScion• 1 adsSkoda• 1 adsSubaru• 1 adsSuzuki• 1 adsToyota• 856 adsVolkswagen• 29 adsVolvo• 9 adsYear of Manufacture2020 - 2024• 44 ads2015 - 2019• 229 ads2010 - 2014• 648 ads2005 - 2009• 829 ads2000 - 2004• 344 ads1995 - 1999• 43 ads1990 - 1994• 5 adsLocationAll NigeriaPrice, ₦ min  max Under 2.6 M  • 128 ads2.6 - 4.7 M  • 514 ads4.7 - 10 M  • 856 ads10 - 33 M  • 535 adsMore than 33 M  • 107 ads Clear  Apply Verified carsInspected  • 2 142 adsVerified sellersVerified sellers  • 2 142 adsMake Show all Toyota  • 856 adsLexus  • 221 adsHonda  • 215 adsMercedes-Benz  • 171 adsFord  • 109 adsAcura  • 38 adsAudi  • 13 adsBMW  • 30 adsCadillac  • 1 adChangan  • 1 adChery  • 1 adChevrolet  • 10 adsChrysler  • 9 adsDacia  • 1 adDaihatsu  • 1 adDodge  • 7 adsDongfeng  • 1 adGAC  • 2 adsGeely  • 1 adGMC  • 4 adsHyundai  • 86 adsInfiniti  • 14 adsIVM  • 1 adJAC  • 1 adJeep  • 6 adsJMC  • 1 adKia  • 37 adsLand Rover  • 51 adsLincoln  • 3 adsMazda  • 29 adsMini  • 2 adsMitsubishi  • 20 adsNissan  • 97 adsOpel  • 7 adsPeugeot  • 35 adsPontiac  • 11 adsPorsche  • 4 adsRenault  • 2 adsSaturn  • 1 adScion  • 1 adSkoda  • 1 adSubaru  • 1 adSuzuki  • 1 adVolkswagen  • 29 adsVolvo  • 9 adsYear of Manufacture min  max 2020 - 2024  • 44 ads2015 - 2019  • 229 ads2010 - 2014  • 648 ads2005 - 2009  • 829 ads2000 - 2004  • 344 ads1995 - 1999  • 43 ads1990 - 1994  • 5 ads Clear  Apply ConditionBrand New  • 4 adsForeign Used  • 416 adsLocal Used  • 1 722 adsTransmissionAMT  • 2 adsAutomatic  • 1 964 adsCVT  • 35 adsManual  • 141 adsBodyVan  • 3 adsSUV  • 718 adsStation Wagon  • 3 adsSedan  • 140 adsPickup  • 6 adsMinivan  • 19 adsHatchback  • 30 adsCrossover  • 18 adsCoupe  • 27 adsConvertible  • 4 adsColorBlack  • 610 adsBlue  • 211 adsGray  • 334 adsSilver  • 358 adsWhite  • 215 adsBeige  • 14 adsBrown  • 33 adsGold  • 102 adsGreen  • 71 adsIvory  • 1 adMatt Black  • 2 adsOff white  • 9 adsOrange  • 2 adsPurple  • 4 adsRed  • 153 adsTeal  • 3 adsYellow  • 2 adsEngine Size3500 cc • 530 ads3000 cc • 148 ads2500 cc • 152 ads2400 cc • 261 ads1800 cc • 277 ads6200 cc • 1 ad6000 cc • 1 ad5700 cc • 13 ads5600 cc • 7 ads5500 cc • 4 ads5400 cc • 5 ads5300 cc • 2 ads5000 cc • 20 ads4800 cc • 6 ads4700 cc • 31 ads4600 cc • 32 ads4500 cc • 7 ads4400 cc • 18 ads4300 cc • 1 ad4200 cc • 1 ad4000 cc • 54 ads3900 cc • 1 ad3800 cc • 14 ads3700 cc • 26 ads3600 cc • 9 ads3400 cc • 4 ads3300 cc • 97 ads3200 cc • 14 ads2900 cc • 1 ad2800 cc • 15 ads2700 cc • 43 ads2600 cc • 3 ads2300 cc • 11 ads2200 cc • 11 ads2000 cc • 139 ads1900 cc • 2 ads1700 cc • 4 ads1600 cc • 61 ads1500 cc • 21 ads1400 cc • 21 ads1300 cc • 9 ads1200 cc • 4 ads1100 cc • 3 ads1000 cc • 1 adFuelPetrol  • 2 112 adsHybrid  • 19 adsElectric  • 2 adsDiesel  • 7 adsCNG  • 1 ad ₦ < 2 M₦ 2-3 M₦ 3-4 M₦ > 4 MToyotaLexusHondaMercedes-BenzNissanFordLand RoverAcura₦ 3,487,500BMW 525i 2006 White Abuja (FCT), JabiLocal Used2399999 km ₦ 11,250,000Toyota Highlander 2012 Gray Abuja (FCT), GuduLocal Used194064 km ₦ 9,900,000GMC Terrain 2012 Black Abuja (FCT), Garki 2Local Used247089 km ₦ 5,062,500Peugeot 206 2004 Gray Lagos State, LekkiForeign Used76202 km ₦ 8,437,500Toyota Camry 2007 Silver Lagos State, AlimoshoLocal Used321587 km ₦ 20,250,000Toyota Camry 2015 Black Lagos State, AlimoshoForeign Used257751 km ₦ 9,562,500Honda CR-V 2007 Blue Abuja (FCT), WuseLocal Used218991 km ₦ 6,862,500Toyota Camry 2010 Gold Abuja (FCT), WuseLocal Used84212 km ₦ 6,187,500Toyota Corolla 2005 Silver Lagos State, LekkiLocal Used96505 km ₦ 9,000,000Lexus ES 2008 Burgandy Lagos State, IkejaLocal Used48910 km ₦ 36,000,000Toyota Hilux 2010 White Lagos State, LekkiLocal Used66834 km ₦ 7,875,000Toyota Matrix 2009 Red Lagos State, Abule EgbaLocal Used434792 km ₦ 16,875,000Toyota RAV4 2013 Gray Lagos State, AlimoshoLocal Used156072 km ₦ 15,187,500Toyota Camry 2012 Silver Oyo State, IbadanForeign Used136079 km ₦ 3,712,500Honda Accord 2007 Gray Abuja (FCT), KubwaLocal Used245662 km 12345...1431 - 15 of 2 142 resultsAbout us Privacy Policy  Cookie Policy Supporthelp@cars45.comOur resources Our FB  Our Instagram  Our Twitter Cars45 • powered by Jiji'"
      ]
     },
     "execution_count": 59,
     "metadata": {},
     "output_type": "execute_result"
    }
   ],
   "source": [
    "soup.find('div').get_text().strip()"
   ]
  },
  {
   "cell_type": "code",
   "execution_count": 111,
   "id": "7f1eca3e-23ce-4248-95d4-770c5efc4505",
   "metadata": {},
   "outputs": [
    {
     "data": {
      "text/plain": [
       "[<p class=\"car-feature__amount\">₦ 3,487,500</p>,\n",
       " <p class=\"car-feature__amount\">₦ 11,250,000</p>,\n",
       " <p class=\"car-feature__amount\">₦ 9,900,000</p>,\n",
       " <p class=\"car-feature__amount\">₦ 5,062,500</p>,\n",
       " <p class=\"car-feature__amount\">₦ 8,437,500</p>,\n",
       " <p class=\"car-feature__amount\">₦ 20,250,000</p>,\n",
       " <p class=\"car-feature__amount\">₦ 9,562,500</p>,\n",
       " <p class=\"car-feature__amount\">₦ 6,862,500</p>,\n",
       " <p class=\"car-feature__amount\">₦ 6,187,500</p>,\n",
       " <p class=\"car-feature__amount\">₦ 9,000,000</p>,\n",
       " <p class=\"car-feature__amount\">₦ 36,000,000</p>,\n",
       " <p class=\"car-feature__amount\">₦ 7,875,000</p>,\n",
       " <p class=\"car-feature__amount\">₦ 16,875,000</p>,\n",
       " <p class=\"car-feature__amount\">₦ 15,187,500</p>,\n",
       " <p class=\"car-feature__amount\">₦ 3,712,500</p>]"
      ]
     },
     "execution_count": 111,
     "metadata": {},
     "output_type": "execute_result"
    }
   ],
   "source": [
    "soup.find_all('p',class_=\"car-feature__amount\")"
   ]
  },
  {
   "cell_type": "code",
   "execution_count": 101,
   "id": "43403e3c-dd3f-4c75-9ca9-d07b3590bf56",
   "metadata": {},
   "outputs": [
    {
     "data": {
      "text/plain": [
       "[]"
      ]
     },
     "execution_count": 101,
     "metadata": {},
     "output_type": "execute_result"
    }
   ],
   "source": []
  },
  {
   "cell_type": "code",
   "execution_count": 113,
   "id": "1de88219-e624-4962-967f-1ff7c0cc25f7",
   "metadata": {},
   "outputs": [
    {
     "data": {
      "text/plain": [
       "[<p class=\"car-feature__name\">BMW 525i 2006 White</p>,\n",
       " <p class=\"car-feature__name\">Toyota Highlander 2012 Gray</p>,\n",
       " <p class=\"car-feature__name\">GMC Terrain 2012 Black</p>,\n",
       " <p class=\"car-feature__name\">Peugeot 206 2004 Gray</p>,\n",
       " <p class=\"car-feature__name\">Toyota Camry 2007 Silver</p>,\n",
       " <p class=\"car-feature__name\">Toyota Camry 2015 Black</p>,\n",
       " <p class=\"car-feature__name\">Honda CR-V 2007 Blue</p>,\n",
       " <p class=\"car-feature__name\">Toyota Camry 2010 Gold</p>,\n",
       " <p class=\"car-feature__name\">Toyota Corolla 2005 Silver</p>,\n",
       " <p class=\"car-feature__name\">Lexus ES 2008 Burgandy</p>,\n",
       " <p class=\"car-feature__name\">Toyota Hilux 2010 White</p>,\n",
       " <p class=\"car-feature__name\">Toyota Matrix 2009 Red</p>,\n",
       " <p class=\"car-feature__name\">Toyota RAV4 2013 Gray</p>,\n",
       " <p class=\"car-feature__name\">Toyota Camry 2012 Silver</p>,\n",
       " <p class=\"car-feature__name\">Honda Accord 2007 Gray</p>]"
      ]
     },
     "execution_count": 113,
     "metadata": {},
     "output_type": "execute_result"
    }
   ],
   "source": [
    "soup.find_all('p',class_=\"car-feature__name\")"
   ]
  },
  {
   "cell_type": "code",
   "execution_count": 115,
   "id": "d0a40b73-320e-424d-818b-6ff9029bd781",
   "metadata": {},
   "outputs": [],
   "source": [
    "car1=soup.find_all('a',class_=\"car-feature\")"
   ]
  },
  {
   "cell_type": "code",
   "execution_count": 117,
   "id": "e0963472-72bb-4844-af5a-e0838f045a2f",
   "metadata": {},
   "outputs": [
    {
     "data": {
      "text/plain": [
       "[<a class=\"car-feature car-feature--wide-mobile\" href=\"/jEY4we01j5OgymRlT4dFJxntCV1Yq4Y\"><div class=\"car-feature__image\"><img alt=\"BMW 525i 2006 White for sale\" class=\"\" data-nuxt-img=\"\" onerror=\"this.setAttribute('data-error', 1)\" src=\"https://www.cars45.com/r/cGljdHVyZXMtbmlnZXJpYS5qaWppc3RhdGljLm5ldA/156455813_MTgwLTEzNS0yOTEwMWM4ZWFiLTE.jpg\" srcset=\"https://www.cars45.com/r/cGljdHVyZXMtbmlnZXJpYS5qaWppc3RhdGljLm5ldA/156455813_MTgwLTEzNS0yOTEwMWM4ZWFiLTE.jpg 1x, https://www.cars45.com/r/cGljdHVyZXMtbmlnZXJpYS5qaWppc3RhdGljLm5ldA/156455813_MTgwLTEzNS0yOTEwMWM4ZWFiLTE.jpg 2x\"/></div><div class=\"car-feature__details\"><p class=\"car-feature__amount\">₦ 3,487,500</p><p class=\"car-feature__name\">BMW 525i 2006 White</p><p class=\"car-feature__region\"><svg class=\"icons h-pb-1 h-mr-5\" color=\"#6c8ea0\" height=\"14px\" width=\"11px\"><!-- --><!-- --><use href=\"/_nuxt/icons.BxkNi9L_.svg#geo-marker-3\"></use></svg> Abuja (FCT), Jabi</p><div class=\"car-feature__others\"><span class=\"car-feature__others__item\">Local Used</span><span class=\"car-feature__others__item\">2399999 km </span></div></div></a>,\n",
       " <a class=\"car-feature car-feature--wide-mobile\" href=\"/jEY4wdZAChw1hVm2tNmAKag6BXzQd51\"><div class=\"car-feature__image\"><img alt=\"Toyota Highlander 2012 Gray for sale\" class=\"\" data-nuxt-img=\"\" onerror=\"this.setAttribute('data-error', 1)\" src=\"https://www.cars45.com/r/cGljdHVyZXMtbmlnZXJpYS5qaWppc3RhdGljLm5ldA/156462200_MTgwLTEzNi1iZGZmOTQyMDA2LTE.jpg\" srcset=\"https://www.cars45.com/r/cGljdHVyZXMtbmlnZXJpYS5qaWppc3RhdGljLm5ldA/156462200_MTgwLTEzNi1iZGZmOTQyMDA2LTE.jpg 1x, https://www.cars45.com/r/cGljdHVyZXMtbmlnZXJpYS5qaWppc3RhdGljLm5ldA/156462200_MTgwLTEzNi1iZGZmOTQyMDA2LTE.jpg 2x\"/></div><div class=\"car-feature__details\"><p class=\"car-feature__amount\">₦ 11,250,000</p><p class=\"car-feature__name\">Toyota Highlander 2012 Gray</p><p class=\"car-feature__region\"><svg class=\"icons h-pb-1 h-mr-5\" color=\"#6c8ea0\" height=\"14px\" width=\"11px\"><!-- --><!-- --><use href=\"/_nuxt/icons.BxkNi9L_.svg#geo-marker-3\"></use></svg> Abuja (FCT), Gudu</p><div class=\"car-feature__others\"><span class=\"car-feature__others__item\">Local Used</span><span class=\"car-feature__others__item\">194064 km </span></div></div></a>,\n",
       " <a class=\"car-feature car-feature--wide-mobile\" href=\"/jEY4wdZkkoaHGrYMRwXS4LnkBbyCwEA\"><div class=\"car-feature__image\"><img alt=\"GMC Terrain 2012 Black for sale\" class=\"\" data-nuxt-img=\"\" onerror=\"this.setAttribute('data-error', 1)\" src=\"https://www.cars45.com/r/cGljdHVyZXMtbmlnZXJpYS5qaWppc3RhdGljLm5ldA/156492077_MTgwLTEzNS00NGYzYmU4NDRmLTE.jpg\" srcset=\"https://www.cars45.com/r/cGljdHVyZXMtbmlnZXJpYS5qaWppc3RhdGljLm5ldA/156492077_MTgwLTEzNS00NGYzYmU4NDRmLTE.jpg 1x, https://www.cars45.com/r/cGljdHVyZXMtbmlnZXJpYS5qaWppc3RhdGljLm5ldA/156492077_MTgwLTEzNS00NGYzYmU4NDRmLTE.jpg 2x\"/></div><div class=\"car-feature__details\"><p class=\"car-feature__amount\">₦ 9,900,000</p><p class=\"car-feature__name\">GMC Terrain 2012 Black</p><p class=\"car-feature__region\"><svg class=\"icons h-pb-1 h-mr-5\" color=\"#6c8ea0\" height=\"14px\" width=\"11px\"><!-- --><!-- --><use href=\"/_nuxt/icons.BxkNi9L_.svg#geo-marker-3\"></use></svg> Abuja (FCT), Garki 2</p><div class=\"car-feature__others\"><span class=\"car-feature__others__item\">Local Used</span><span class=\"car-feature__others__item\">247089 km </span></div></div></a>,\n",
       " <a class=\"car-feature car-feature--wide-mobile\" href=\"/jEY4wdZFGqwzQgywBKsLNG9HzKUKKXS\"><div class=\"car-feature__image\"><img alt=\"Peugeot 206 2004 Gray for sale\" class=\"\" data-nuxt-img=\"\" onerror=\"this.setAttribute('data-error', 1)\" src=\"https://www.cars45.com/r/cGljdHVyZXMtbmlnZXJpYS5qaWppc3RhdGljLm5ldA/156460293_MTgwLTEzNS05M2U2NDYxYmRhLTE.jpg\" srcset=\"https://www.cars45.com/r/cGljdHVyZXMtbmlnZXJpYS5qaWppc3RhdGljLm5ldA/156460293_MTgwLTEzNS05M2U2NDYxYmRhLTE.jpg 1x, https://www.cars45.com/r/cGljdHVyZXMtbmlnZXJpYS5qaWppc3RhdGljLm5ldA/156460293_MTgwLTEzNS05M2U2NDYxYmRhLTE.jpg 2x\"/></div><div class=\"car-feature__details\"><p class=\"car-feature__amount\">₦ 5,062,500</p><p class=\"car-feature__name\">Peugeot 206 2004 Gray</p><p class=\"car-feature__region\"><svg class=\"icons h-pb-1 h-mr-5\" color=\"#6c8ea0\" height=\"14px\" width=\"11px\"><!-- --><!-- --><use href=\"/_nuxt/icons.BxkNi9L_.svg#geo-marker-3\"></use></svg> Lagos State, Lekki</p><div class=\"car-feature__others\"><span class=\"car-feature__others__item\">Foreign Used</span><span class=\"car-feature__others__item\">76202 km </span></div></div></a>,\n",
       " <a class=\"car-feature car-feature--wide-mobile\" href=\"/jEY4wdZwLN49v8BapKOlJtnGqg7DYRK\"><div class=\"car-feature__image\"><img alt=\"Toyota Camry 2007 Silver for sale\" class=\"\" data-nuxt-img=\"\" onerror=\"this.setAttribute('data-error', 1)\" src=\"https://www.cars45.com/r/cGljdHVyZXMtbmlnZXJpYS5qaWppc3RhdGljLm5ldA/156474343_MTgwLTEzNS00NmZiNGIwZDBk.jpg\" srcset=\"https://www.cars45.com/r/cGljdHVyZXMtbmlnZXJpYS5qaWppc3RhdGljLm5ldA/156474343_MTgwLTEzNS00NmZiNGIwZDBk.jpg 1x, https://www.cars45.com/r/cGljdHVyZXMtbmlnZXJpYS5qaWppc3RhdGljLm5ldA/156474343_MTgwLTEzNS00NmZiNGIwZDBk.jpg 2x\"/></div><div class=\"car-feature__details\"><p class=\"car-feature__amount\">₦ 8,437,500</p><p class=\"car-feature__name\">Toyota Camry 2007 Silver</p><p class=\"car-feature__region\"><svg class=\"icons h-pb-1 h-mr-5\" color=\"#6c8ea0\" height=\"14px\" width=\"11px\"><!-- --><!-- --><use href=\"/_nuxt/icons.BxkNi9L_.svg#geo-marker-3\"></use></svg> Lagos State, Alimosho</p><div class=\"car-feature__others\"><span class=\"car-feature__others__item\">Local Used</span><span class=\"car-feature__others__item\">321587 km </span></div></div></a>,\n",
       " <a class=\"car-feature car-feature--wide-mobile\" href=\"/jEY4wdZERQVkrKT2JuviaGtV2xny4o3\"><div class=\"car-feature__image\"><img alt=\"Toyota Camry 2015 Black for sale\" class=\"\" data-nuxt-img=\"\" onerror=\"this.setAttribute('data-error', 1)\" src=\"https://www.cars45.com/r/cGljdHVyZXMtbmlnZXJpYS5qaWppc3RhdGljLm5ldA/156460193_MTgwLTEzNS1lZDFhYzU4NGVl.jpg\" srcset=\"https://www.cars45.com/r/cGljdHVyZXMtbmlnZXJpYS5qaWppc3RhdGljLm5ldA/156460193_MTgwLTEzNS1lZDFhYzU4NGVl.jpg 1x, https://www.cars45.com/r/cGljdHVyZXMtbmlnZXJpYS5qaWppc3RhdGljLm5ldA/156460193_MTgwLTEzNS1lZDFhYzU4NGVl.jpg 2x\"/></div><div class=\"car-feature__details\"><p class=\"car-feature__amount\">₦ 20,250,000</p><p class=\"car-feature__name\">Toyota Camry 2015 Black</p><p class=\"car-feature__region\"><svg class=\"icons h-pb-1 h-mr-5\" color=\"#6c8ea0\" height=\"14px\" width=\"11px\"><!-- --><!-- --><use href=\"/_nuxt/icons.BxkNi9L_.svg#geo-marker-3\"></use></svg> Lagos State, Alimosho</p><div class=\"car-feature__others\"><span class=\"car-feature__others__item\">Foreign Used</span><span class=\"car-feature__others__item\">257751 km </span></div></div></a>,\n",
       " <a class=\"car-feature car-feature--wide-mobile\" href=\"/jEY4wdZbnxWYoi3OI5RRVUNDAQE307A\"><div class=\"car-feature__image\"><img alt=\"Honda CR-V 2007 Blue for sale\" class=\"\" data-nuxt-img=\"\" onerror=\"this.setAttribute('data-error', 1)\" src=\"https://www.cars45.com/r/cGljdHVyZXMtbmlnZXJpYS5qaWppc3RhdGljLm5ldA/156382538_MTgwLTEzNS1jM2RjZjBmM2Zl.jpg\" srcset=\"https://www.cars45.com/r/cGljdHVyZXMtbmlnZXJpYS5qaWppc3RhdGljLm5ldA/156382538_MTgwLTEzNS1jM2RjZjBmM2Zl.jpg 1x, https://www.cars45.com/r/cGljdHVyZXMtbmlnZXJpYS5qaWppc3RhdGljLm5ldA/156382538_MTgwLTEzNS1jM2RjZjBmM2Zl.jpg 2x\"/></div><div class=\"car-feature__details\"><p class=\"car-feature__amount\">₦ 9,562,500</p><p class=\"car-feature__name\">Honda CR-V 2007 Blue</p><p class=\"car-feature__region\"><svg class=\"icons h-pb-1 h-mr-5\" color=\"#6c8ea0\" height=\"14px\" width=\"11px\"><!-- --><!-- --><use href=\"/_nuxt/icons.BxkNi9L_.svg#geo-marker-3\"></use></svg> Abuja (FCT), Wuse</p><div class=\"car-feature__others\"><span class=\"car-feature__others__item\">Local Used</span><span class=\"car-feature__others__item\">218991 km </span></div></div></a>,\n",
       " <a class=\"car-feature car-feature--wide-mobile\" href=\"/jEY4wdZxY6kBONeh5VvmzhKEIT2OOMu\"><div class=\"car-feature__image\"><img alt=\"Toyota Camry 2010 Gold for sale\" class=\"\" data-nuxt-img=\"\" onerror=\"this.setAttribute('data-error', 1)\" src=\"https://www.cars45.com/r/cGljdHVyZXMtbmlnZXJpYS5qaWppc3RhdGljLm5ldA/156287672_MTgwLTEzNS1kNDBkYTNmMTIz.jpg\" srcset=\"https://www.cars45.com/r/cGljdHVyZXMtbmlnZXJpYS5qaWppc3RhdGljLm5ldA/156287672_MTgwLTEzNS1kNDBkYTNmMTIz.jpg 1x, https://www.cars45.com/r/cGljdHVyZXMtbmlnZXJpYS5qaWppc3RhdGljLm5ldA/156287672_MTgwLTEzNS1kNDBkYTNmMTIz.jpg 2x\"/></div><div class=\"car-feature__details\"><p class=\"car-feature__amount\">₦ 6,862,500</p><p class=\"car-feature__name\">Toyota Camry 2010 Gold</p><p class=\"car-feature__region\"><svg class=\"icons h-pb-1 h-mr-5\" color=\"#6c8ea0\" height=\"14px\" width=\"11px\"><!-- --><!-- --><use href=\"/_nuxt/icons.BxkNi9L_.svg#geo-marker-3\"></use></svg> Abuja (FCT), Wuse</p><div class=\"car-feature__others\"><span class=\"car-feature__others__item\">Local Used</span><span class=\"car-feature__others__item\">84212 km </span></div></div></a>,\n",
       " <a class=\"car-feature car-feature--wide-mobile\" href=\"/jEY4wdZ9s0kMbVfx2jEgyfLpuVCBFdD\"><div class=\"car-feature__image\"><img alt=\"Toyota Corolla 2005 Silver for sale\" class=\"\" data-nuxt-img=\"\" onerror=\"this.setAttribute('data-error', 1)\" src=\"https://www.cars45.com/r/cGljdHVyZXMtbmlnZXJpYS5qaWppc3RhdGljLm5ldA/156319641_MTgwLTEzNS05YmMzMGQ0ZTUz.jpg\" srcset=\"https://www.cars45.com/r/cGljdHVyZXMtbmlnZXJpYS5qaWppc3RhdGljLm5ldA/156319641_MTgwLTEzNS05YmMzMGQ0ZTUz.jpg 1x, https://www.cars45.com/r/cGljdHVyZXMtbmlnZXJpYS5qaWppc3RhdGljLm5ldA/156319641_MTgwLTEzNS05YmMzMGQ0ZTUz.jpg 2x\"/></div><div class=\"car-feature__details\"><p class=\"car-feature__amount\">₦ 6,187,500</p><p class=\"car-feature__name\">Toyota Corolla 2005 Silver</p><p class=\"car-feature__region\"><svg class=\"icons h-pb-1 h-mr-5\" color=\"#6c8ea0\" height=\"14px\" width=\"11px\"><!-- --><!-- --><use href=\"/_nuxt/icons.BxkNi9L_.svg#geo-marker-3\"></use></svg> Lagos State, Lekki</p><div class=\"car-feature__others\"><span class=\"car-feature__others__item\">Local Used</span><span class=\"car-feature__others__item\">96505 km </span></div></div></a>,\n",
       " <a class=\"car-feature car-feature--wide-mobile\" href=\"/jlCs49PShh4QaNOLtPuDAvKGWShisY\"><div class=\"car-feature__image\"><img alt=\"Lexus ES 2008 Burgandy for sale\" class=\"\" data-nuxt-img=\"\" onerror=\"this.setAttribute('data-error', 1)\" src=\"https://www.cars45.com/r/cGljdHVyZXMtbmlnZXJpYS5qaWppc3RhdGljLm5ldA/156304144_MTgwLTEzNS00Mjc1YmQ0NTVm.jpg\" srcset=\"https://www.cars45.com/r/cGljdHVyZXMtbmlnZXJpYS5qaWppc3RhdGljLm5ldA/156304144_MTgwLTEzNS00Mjc1YmQ0NTVm.jpg 1x, https://www.cars45.com/r/cGljdHVyZXMtbmlnZXJpYS5qaWppc3RhdGljLm5ldA/156304144_MTgwLTEzNS00Mjc1YmQ0NTVm.jpg 2x\"/></div><div class=\"car-feature__details\"><p class=\"car-feature__amount\">₦ 9,000,000</p><p class=\"car-feature__name\">Lexus ES 2008 Burgandy</p><p class=\"car-feature__region\"><svg class=\"icons h-pb-1 h-mr-5\" color=\"#6c8ea0\" height=\"14px\" width=\"11px\"><!-- --><!-- --><use href=\"/_nuxt/icons.BxkNi9L_.svg#geo-marker-3\"></use></svg> Lagos State, Ikeja</p><div class=\"car-feature__others\"><span class=\"car-feature__others__item\">Local Used</span><span class=\"car-feature__others__item\">48910 km </span></div></div></a>,\n",
       " <a class=\"car-feature car-feature--wide-mobile\" href=\"/jEY4wdZFIiVF9HbRCEutD2lTrrPaX8f\"><div class=\"car-feature__image\"><img alt=\"Toyota Hilux 2010 White for sale\" class=\"\" data-nuxt-img=\"\" onerror=\"this.setAttribute('data-error', 1)\" src=\"https://www.cars45.com/r/cGljdHVyZXMtbmlnZXJpYS5qaWppc3RhdGljLm5ldA/156306893_MTgwLTEzNS0zZGExNjlhNTMx.jpg\" srcset=\"https://www.cars45.com/r/cGljdHVyZXMtbmlnZXJpYS5qaWppc3RhdGljLm5ldA/156306893_MTgwLTEzNS0zZGExNjlhNTMx.jpg 1x, https://www.cars45.com/r/cGljdHVyZXMtbmlnZXJpYS5qaWppc3RhdGljLm5ldA/156306893_MTgwLTEzNS0zZGExNjlhNTMx.jpg 2x\"/></div><div class=\"car-feature__details\"><p class=\"car-feature__amount\">₦ 36,000,000</p><p class=\"car-feature__name\">Toyota Hilux 2010 White</p><p class=\"car-feature__region\"><svg class=\"icons h-pb-1 h-mr-5\" color=\"#6c8ea0\" height=\"14px\" width=\"11px\"><!-- --><!-- --><use href=\"/_nuxt/icons.BxkNi9L_.svg#geo-marker-3\"></use></svg> Lagos State, Lekki</p><div class=\"car-feature__others\"><span class=\"car-feature__others__item\">Local Used</span><span class=\"car-feature__others__item\">66834 km </span></div></div></a>,\n",
       " <a class=\"car-feature car-feature--wide-mobile\" href=\"/jEY4wdZrDWA5tcO4CcpMPWFr9DdtoFa\"><div class=\"car-feature__image\"><img alt=\"Toyota Matrix 2009 Red for sale\" class=\"\" data-nuxt-img=\"\" onerror=\"this.setAttribute('data-error', 1)\" src=\"https://www.cars45.com/r/cGljdHVyZXMtbmlnZXJpYS5qaWppc3RhdGljLm5ldA/156320818_MTgwLTEzNS02NzM4MzljODA0.jpg\" srcset=\"https://www.cars45.com/r/cGljdHVyZXMtbmlnZXJpYS5qaWppc3RhdGljLm5ldA/156320818_MTgwLTEzNS02NzM4MzljODA0.jpg 1x, https://www.cars45.com/r/cGljdHVyZXMtbmlnZXJpYS5qaWppc3RhdGljLm5ldA/156320818_MTgwLTEzNS02NzM4MzljODA0.jpg 2x\"/></div><div class=\"car-feature__details\"><p class=\"car-feature__amount\">₦ 7,875,000</p><p class=\"car-feature__name\">Toyota Matrix 2009 Red</p><p class=\"car-feature__region\"><svg class=\"icons h-pb-1 h-mr-5\" color=\"#6c8ea0\" height=\"14px\" width=\"11px\"><!-- --><!-- --><use href=\"/_nuxt/icons.BxkNi9L_.svg#geo-marker-3\"></use></svg> Lagos State, Abule Egba</p><div class=\"car-feature__others\"><span class=\"car-feature__others__item\">Local Used</span><span class=\"car-feature__others__item\">434792 km </span></div></div></a>,\n",
       " <a class=\"car-feature car-feature--wide-mobile\" href=\"/jlCs49Qq1PAlf3V9JLV0OmKwzqijXw\"><div class=\"car-feature__image\"><img alt=\"Toyota RAV4 2013 Gray for sale\" class=\"\" data-nuxt-img=\"\" onerror=\"this.setAttribute('data-error', 1)\" src=\"https://www.cars45.com/r/cGljdHVyZXMtbmlnZXJpYS5qaWppc3RhdGljLm5ldA/156298011_MTgwLTEzNS0yNTEzYjU2ODhk.jpg\" srcset=\"https://www.cars45.com/r/cGljdHVyZXMtbmlnZXJpYS5qaWppc3RhdGljLm5ldA/156298011_MTgwLTEzNS0yNTEzYjU2ODhk.jpg 1x, https://www.cars45.com/r/cGljdHVyZXMtbmlnZXJpYS5qaWppc3RhdGljLm5ldA/156298011_MTgwLTEzNS0yNTEzYjU2ODhk.jpg 2x\"/></div><div class=\"car-feature__details\"><p class=\"car-feature__amount\">₦ 16,875,000</p><p class=\"car-feature__name\">Toyota RAV4 2013 Gray</p><p class=\"car-feature__region\"><svg class=\"icons h-pb-1 h-mr-5\" color=\"#6c8ea0\" height=\"14px\" width=\"11px\"><!-- --><!-- --><use href=\"/_nuxt/icons.BxkNi9L_.svg#geo-marker-3\"></use></svg> Lagos State, Alimosho</p><div class=\"car-feature__others\"><span class=\"car-feature__others__item\">Local Used</span><span class=\"car-feature__others__item\">156072 km </span></div></div></a>,\n",
       " <a class=\"car-feature car-feature--wide-mobile\" href=\"/jEY4wdZitwqGWQUe6d82Ub1YIdkTiVJ\"><div class=\"car-feature__image\"><img alt=\"Toyota Camry 2012 Silver for sale\" class=\"\" data-nuxt-img=\"\" onerror=\"this.setAttribute('data-error', 1)\" src=\"https://www.cars45.com/r/cGljdHVyZXMtbmlnZXJpYS5qaWppc3RhdGljLm5ldA/156297277_MTgwLTEzNS0zNDEzYzdiMWE1.jpg\" srcset=\"https://www.cars45.com/r/cGljdHVyZXMtbmlnZXJpYS5qaWppc3RhdGljLm5ldA/156297277_MTgwLTEzNS0zNDEzYzdiMWE1.jpg 1x, https://www.cars45.com/r/cGljdHVyZXMtbmlnZXJpYS5qaWppc3RhdGljLm5ldA/156297277_MTgwLTEzNS0zNDEzYzdiMWE1.jpg 2x\"/></div><div class=\"car-feature__details\"><p class=\"car-feature__amount\">₦ 15,187,500</p><p class=\"car-feature__name\">Toyota Camry 2012 Silver</p><p class=\"car-feature__region\"><svg class=\"icons h-pb-1 h-mr-5\" color=\"#6c8ea0\" height=\"14px\" width=\"11px\"><!-- --><!-- --><use href=\"/_nuxt/icons.BxkNi9L_.svg#geo-marker-3\"></use></svg> Oyo State, Ibadan</p><div class=\"car-feature__others\"><span class=\"car-feature__others__item\">Foreign Used</span><span class=\"car-feature__others__item\">136079 km </span></div></div></a>,\n",
       " <a class=\"car-feature car-feature--wide-mobile\" href=\"/jEY4wdZFu1iX8NCh7iMN564Z6upLhWH\"><div class=\"car-feature__image\"><img alt=\"Honda Accord 2007 Gray for sale\" class=\"\" data-nuxt-img=\"\" onerror=\"this.setAttribute('data-error', 1)\" src=\"https://www.cars45.com/r/cGljdHVyZXMtbmlnZXJpYS5qaWppc3RhdGljLm5ldA/156367782_MTgwLTEzNS00OTNkMzExNTcw.jpg\" srcset=\"https://www.cars45.com/r/cGljdHVyZXMtbmlnZXJpYS5qaWppc3RhdGljLm5ldA/156367782_MTgwLTEzNS00OTNkMzExNTcw.jpg 1x, https://www.cars45.com/r/cGljdHVyZXMtbmlnZXJpYS5qaWppc3RhdGljLm5ldA/156367782_MTgwLTEzNS00OTNkMzExNTcw.jpg 2x\"/></div><div class=\"car-feature__details\"><p class=\"car-feature__amount\">₦ 3,712,500</p><p class=\"car-feature__name\">Honda Accord 2007 Gray</p><p class=\"car-feature__region\"><svg class=\"icons h-pb-1 h-mr-5\" color=\"#6c8ea0\" height=\"14px\" width=\"11px\"><!-- --><!-- --><use href=\"/_nuxt/icons.BxkNi9L_.svg#geo-marker-3\"></use></svg> Abuja (FCT), Kubwa</p><div class=\"car-feature__others\"><span class=\"car-feature__others__item\">Local Used</span><span class=\"car-feature__others__item\">245662 km </span></div></div></a>]"
      ]
     },
     "execution_count": 117,
     "metadata": {},
     "output_type": "execute_result"
    }
   ],
   "source": [
    "car1"
   ]
  },
  {
   "cell_type": "code",
   "execution_count": 121,
   "id": "4d09ed80-99db-4970-baba-5fd525c793a4",
   "metadata": {},
   "outputs": [
    {
     "data": {
      "text/plain": [
       "<a class=\"car-feature car-feature--wide-mobile\" href=\"/jEY4we01j5OgymRlT4dFJxntCV1Yq4Y\"><div class=\"car-feature__image\"><img alt=\"BMW 525i 2006 White for sale\" class=\"\" data-nuxt-img=\"\" onerror=\"this.setAttribute('data-error', 1)\" src=\"https://www.cars45.com/r/cGljdHVyZXMtbmlnZXJpYS5qaWppc3RhdGljLm5ldA/156455813_MTgwLTEzNS0yOTEwMWM4ZWFiLTE.jpg\" srcset=\"https://www.cars45.com/r/cGljdHVyZXMtbmlnZXJpYS5qaWppc3RhdGljLm5ldA/156455813_MTgwLTEzNS0yOTEwMWM4ZWFiLTE.jpg 1x, https://www.cars45.com/r/cGljdHVyZXMtbmlnZXJpYS5qaWppc3RhdGljLm5ldA/156455813_MTgwLTEzNS0yOTEwMWM4ZWFiLTE.jpg 2x\"/></div><div class=\"car-feature__details\"><p class=\"car-feature__amount\">₦ 3,487,500</p><p class=\"car-feature__name\">BMW 525i 2006 White</p><p class=\"car-feature__region\"><svg class=\"icons h-pb-1 h-mr-5\" color=\"#6c8ea0\" height=\"14px\" width=\"11px\"><!-- --><!-- --><use href=\"/_nuxt/icons.BxkNi9L_.svg#geo-marker-3\"></use></svg> Abuja (FCT), Jabi</p><div class=\"car-feature__others\"><span class=\"car-feature__others__item\">Local Used</span><span class=\"car-feature__others__item\">2399999 km </span></div></div></a>"
      ]
     },
     "execution_count": 121,
     "metadata": {},
     "output_type": "execute_result"
    }
   ],
   "source": [
    "car1[0]"
   ]
  },
  {
   "cell_type": "code",
   "execution_count": null,
   "id": "e486baaf-59d9-4a16-abdc-f08915c2dfbb",
   "metadata": {},
   "outputs": [],
   "source": []
  },
  {
   "cell_type": "code",
   "execution_count": 133,
   "id": "b5740459-d992-42e9-9aa0-2e6526db5f5b",
   "metadata": {},
   "outputs": [],
   "source": [
    "car1=soup.find_all('a',class_='car-feature')[1]\n",
    "amount=car1.find('p',class_='car-feature__amount').get_text().strip()\n",
    "name=car1.find('p',class_='car-feature__name').get_text().strip()\n",
    "region=car1.find('p',class_='car-feature__region').get_text().strip()\n",
    "use_type=car1.find('div',class_='car-feature__others').get_text().strip()\n",
    "mileage=car1.find('div',class_='car-feature__others').find_next().get_text().strip()"
   ]
  },
  {
   "cell_type": "code",
   "execution_count": 137,
   "id": "51311cac-84aa-4403-b7ae-d394cc05dc89",
   "metadata": {},
   "outputs": [
    {
     "name": "stdout",
     "output_type": "stream",
     "text": [
      "₦ 11,250,000 Toyota Highlander 2012 Gray Abuja (FCT), Gudu Local Used194064 km Local Used\n"
     ]
    }
   ],
   "source": [
    "print(amount,name,region,use_type,mileage)"
   ]
  },
  {
   "cell_type": "code",
   "execution_count": 139,
   "id": "743375fc-dcee-461c-83f9-5ac0f9ca4243",
   "metadata": {},
   "outputs": [
    {
     "data": {
      "text/plain": [
       "<a class=\"car-feature car-feature--wide-mobile\" href=\"/jEY4wdZAChw1hVm2tNmAKag6BXzQd51\"><div class=\"car-feature__image\"><img alt=\"Toyota Highlander 2012 Gray for sale\" class=\"\" data-nuxt-img=\"\" onerror=\"this.setAttribute('data-error', 1)\" src=\"https://www.cars45.com/r/cGljdHVyZXMtbmlnZXJpYS5qaWppc3RhdGljLm5ldA/156462200_MTgwLTEzNi1iZGZmOTQyMDA2LTE.jpg\" srcset=\"https://www.cars45.com/r/cGljdHVyZXMtbmlnZXJpYS5qaWppc3RhdGljLm5ldA/156462200_MTgwLTEzNi1iZGZmOTQyMDA2LTE.jpg 1x, https://www.cars45.com/r/cGljdHVyZXMtbmlnZXJpYS5qaWppc3RhdGljLm5ldA/156462200_MTgwLTEzNi1iZGZmOTQyMDA2LTE.jpg 2x\"/></div><div class=\"car-feature__details\"><p class=\"car-feature__amount\">₦ 11,250,000</p><p class=\"car-feature__name\">Toyota Highlander 2012 Gray</p><p class=\"car-feature__region\"><svg class=\"icons h-pb-1 h-mr-5\" color=\"#6c8ea0\" height=\"14px\" width=\"11px\"><!-- --><!-- --><use href=\"/_nuxt/icons.BxkNi9L_.svg#geo-marker-3\"></use></svg> Abuja (FCT), Gudu</p><div class=\"car-feature__others\"><span class=\"car-feature__others__item\">Local Used</span><span class=\"car-feature__others__item\">194064 km </span></div></div></a>"
      ]
     },
     "execution_count": 139,
     "metadata": {},
     "output_type": "execute_result"
    }
   ],
   "source": [
    "car1"
   ]
  },
  {
   "cell_type": "code",
   "execution_count": 141,
   "id": "35e2c6ca-555d-4672-ab36-6e7972ab22cc",
   "metadata": {},
   "outputs": [
    {
     "data": {
      "text/plain": [
       "'₦ 11,250,000'"
      ]
     },
     "execution_count": 141,
     "metadata": {},
     "output_type": "execute_result"
    }
   ],
   "source": [
    "amount"
   ]
  },
  {
   "cell_type": "code",
   "execution_count": null,
   "id": "377cdde8-331d-42fc-94dd-65f78923c116",
   "metadata": {},
   "outputs": [],
   "source": []
  }
 ],
 "metadata": {
  "kernelspec": {
   "display_name": "Python 3 (ipykernel)",
   "language": "python",
   "name": "python3"
  },
  "language_info": {
   "codemirror_mode": {
    "name": "ipython",
    "version": 3
   },
   "file_extension": ".py",
   "mimetype": "text/x-python",
   "name": "python",
   "nbconvert_exporter": "python",
   "pygments_lexer": "ipython3",
   "version": "3.12.4"
  }
 },
 "nbformat": 4,
 "nbformat_minor": 5
}
